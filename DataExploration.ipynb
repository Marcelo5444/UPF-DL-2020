{
  "nbformat": 4,
  "nbformat_minor": 0,
  "metadata": {
    "colab": {
      "name": "DataExploration.ipynb",
      "provenance": []
    },
    "kernelspec": {
      "name": "python3",
      "display_name": "Python 3"
    }
  },
  "cells": [
    {
      "cell_type": "code",
      "metadata": {
        "id": "OzxyOhewVRlr",
        "colab_type": "code",
        "colab": {}
      },
      "source": [
        "import torch\n",
        "import torch.nn as nn\n",
        "import numpy as np\n",
        "import matplotlib.pyplot as plt\n",
        "\n",
        "import torchvision"
      ],
      "execution_count": 0,
      "outputs": []
    },
    {
      "cell_type": "code",
      "metadata": {
        "id": "ZDylvzO1VjUl",
        "colab_type": "code",
        "outputId": "f144709a-e492-45b3-ff25-52c6e44dfcb4",
        "colab": {
          "base_uri": "https://localhost:8080/",
          "height": 52
        }
      },
      "source": [
        "#we download the CIFAR-10 dataset. We divide the dataset in train and test parts.\n",
        "trainset = torchvision.datasets.CIFAR10(train=True, download=True, root=\"./data\", \n",
        "                                        transform = torchvision.transforms.ToTensor())\n",
        "type(trainset)"
      ],
      "execution_count": 0,
      "outputs": [
        {
          "output_type": "stream",
          "text": [
            "Files already downloaded and verified\n"
          ],
          "name": "stdout"
        },
        {
          "output_type": "execute_result",
          "data": {
            "text/plain": [
              "torchvision.datasets.cifar.CIFAR10"
            ]
          },
          "metadata": {
            "tags": []
          },
          "execution_count": 93
        }
      ]
    },
    {
      "cell_type": "code",
      "metadata": {
        "id": "592yyrMae8g4",
        "colab_type": "code",
        "outputId": "6cdb7e62-417f-448c-e39c-e60e2f227d01",
        "colab": {
          "base_uri": "https://localhost:8080/",
          "height": 121
        }
      },
      "source": [
        "print(trainset)"
      ],
      "execution_count": 0,
      "outputs": [
        {
          "output_type": "stream",
          "text": [
            "Dataset CIFAR10\n",
            "    Number of datapoints: 50000\n",
            "    Root location: ./data\n",
            "    Split: Train\n",
            "    StandardTransform\n",
            "Transform: ToTensor()\n"
          ],
          "name": "stdout"
        }
      ]
    },
    {
      "cell_type": "code",
      "metadata": {
        "id": "CZTZJVt4XH5f",
        "colab_type": "code",
        "colab": {}
      },
      "source": [
        "#the labels in the dataset are the following.\n",
        "classes = ('airplane', 'automobile', 'bird', 'cat', 'deer', 'dog', 'frog', 'horse', 'ship',' truck' )"
      ],
      "execution_count": 0,
      "outputs": []
    },
    {
      "cell_type": "code",
      "metadata": {
        "id": "3UvCg_DfYGyy",
        "colab_type": "code",
        "outputId": "e5973559-0a07-4a69-a2d3-f357b5c80a0c",
        "colab": {
          "base_uri": "https://localhost:8080/",
          "height": 34
        }
      },
      "source": [
        "trainloader = torch.utils.data.DataLoader(trainset)\n",
        "type(trainloader)"
      ],
      "execution_count": 0,
      "outputs": [
        {
          "output_type": "execute_result",
          "data": {
            "text/plain": [
              "torch.utils.data.dataloader.DataLoader"
            ]
          },
          "metadata": {
            "tags": []
          },
          "execution_count": 96
        }
      ]
    },
    {
      "cell_type": "code",
      "metadata": {
        "id": "WPG8xHpVaK4J",
        "colab_type": "code",
        "colab": {}
      },
      "source": [
        "#create a dictionary that contains the amount of input images in each layer.\n",
        "\n",
        "label_count = dict.fromkeys(classes, 0)\n",
        "\n",
        "for im in trainloader:\n",
        "\n",
        "    pix, labels = im\n",
        "    #print(labels)\n",
        "    label = classes[labels.item()]\n",
        "    label_count[label] = label_count.get(label)+1"
      ],
      "execution_count": 0,
      "outputs": []
    },
    {
      "cell_type": "code",
      "metadata": {
        "id": "DHZS7iZ2kLZm",
        "colab_type": "code",
        "outputId": "b76fc341-cac6-4bc8-a300-9a2064e4314f",
        "colab": {
          "base_uri": "https://localhost:8080/",
          "height": 190
        }
      },
      "source": [
        "label_count"
      ],
      "execution_count": 0,
      "outputs": [
        {
          "output_type": "execute_result",
          "data": {
            "text/plain": [
              "{' truck': 5000,\n",
              " 'airplane': 5000,\n",
              " 'automobile': 5000,\n",
              " 'bird': 5000,\n",
              " 'cat': 5000,\n",
              " 'deer': 5000,\n",
              " 'dog': 5000,\n",
              " 'frog': 5000,\n",
              " 'horse': 5000,\n",
              " 'ship': 5000}"
            ]
          },
          "metadata": {
            "tags": []
          },
          "execution_count": 98
        }
      ]
    },
    {
      "cell_type": "code",
      "metadata": {
        "id": "Qk6WcJYxnHZo",
        "colab_type": "code",
        "outputId": "61a8ea17-5ba1-4594-a0aa-881912a5c6d7",
        "colab": {
          "base_uri": "https://localhost:8080/",
          "height": 337
        }
      },
      "source": [
        "#display the data in a histogram.\n",
        "colors = ['orange', 'blue', 'yellow', 'brown','red', 'green', 'purple', 'grey', 'cyan', 'black', 'blue']\n",
        "plt.figure(figsize=(12,5))\n",
        "plt.bar(label_count.keys(), label_count.values(), width=.5)"
      ],
      "execution_count": 0,
      "outputs": [
        {
          "output_type": "execute_result",
          "data": {
            "text/plain": [
              "<BarContainer object of 10 artists>"
            ]
          },
          "metadata": {
            "tags": []
          },
          "execution_count": 99
        },
        {
          "output_type": "display_data",
          "data": {
            "image/png": "[encoded data removed]",
            "text/plain": [
              "<Figure size 864x360 with 1 Axes>"
            ]
          },
          "metadata": {
            "tags": [],
            "needs_background": "light"
          }
        }
      ]
    },
    {
      "cell_type": "code",
      "metadata": {
        "id": "eF6Y5X1eeHA2",
        "colab_type": "code",
        "colab": {}
      },
      "source": [
        "def image_show(img):\n",
        "  np_img = img.numpy()\n",
        "  np_img = np.transpose(np_img, (1,2,0))\n",
        "  plt.imshow(np_img)\n",
        "  plt.show()"
      ],
      "execution_count": 0,
      "outputs": []
    },
    {
      "cell_type": "code",
      "metadata": {
        "id": "RWeGhGnxLRvd",
        "colab_type": "code",
        "colab": {}
      },
      "source": [
        ""
      ],
      "execution_count": 0,
      "outputs": []
    },
    {
      "cell_type": "markdown",
      "metadata": {
        "id": "dsRVe6YYHS9e",
        "colab_type": "text"
      },
      "source": [
        "Now we will use t-SNE in order to visualize better how the model learns."
      ]
    },
    {
      "cell_type": "code",
      "metadata": {
        "id": "N13ySRTCrYkW",
        "colab_type": "code",
        "colab": {}
      },
      "source": [
        "from keras.datasets import cifar10\n",
        "(x, y), (x_test, y_test) = cifar10.load_data()"
      ],
      "execution_count": 0,
      "outputs": []
    },
    {
      "cell_type": "code",
      "metadata": {
        "id": "sqdcCIMvLa8D",
        "colab_type": "code",
        "outputId": "e43b1817-650b-445f-b30f-6d758ad851c7",
        "colab": {
          "base_uri": "https://localhost:8080/",
          "height": 34
        }
      },
      "source": [
        "print(np.unique(y, return_counts=True))"
      ],
      "execution_count": 0,
      "outputs": [
        {
          "output_type": "stream",
          "text": [
            "(array([0, 1, 2, 3, 4, 5, 6, 7, 8, 9], dtype=uint8), array([5000, 5000, 5000, 5000, 5000, 5000, 5000, 5000, 5000, 5000]))\n"
          ],
          "name": "stdout"
        }
      ]
    },
    {
      "cell_type": "code",
      "metadata": {
        "id": "mJfRFq5HLtHX",
        "colab_type": "code",
        "outputId": "5f005dcf-0e66-474e-a339-63913ac08caa",
        "colab": {
          "base_uri": "https://localhost:8080/",
          "height": 204
        }
      },
      "source": [
        "#display of a image for every label\n",
        "plt.figure(figsize=(40,40))\n",
        "for i in range(0, len(np.unique(y))):\n",
        "  im = np.random.choice(np.where(y==i)[0],1)\n",
        "  plt.subplot(1,10,i+1)\n",
        "  img=x[im]\n",
        "  plt.imshow(img[0,:,:,:])\n",
        "  plt.title(classes[i])"
      ],
      "execution_count": 0,
      "outputs": [
        {
          "output_type": "display_data",
          "data": {
            "image/png": "[encoded data removed]",
            "text/plain": [
              "<Figure size 2880x2880 with 10 Axes>"
            ]
          },
          "metadata": {
            "tags": [],
            "needs_background": "light"
          }
        }
      ]
    },
    {
      "cell_type": "code",
      "metadata": {
        "id": "qloI9VowMTeh",
        "colab_type": "code",
        "colab": {}
      },
      "source": [
        "#perform t-sne method\n",
        "from sklearn.manifold import TSNE\n",
        "#we need to reshape data as we have a 4-dimensional input data and we need \n",
        "cifar10_tsne = TSNE(random_state = 123).fit_transform(x.reshape((len(x),32*32*3)))"
      ],
      "execution_count": 0,
      "outputs": []
    },
    {
      "cell_type": "code",
      "metadata": {
        "id": "laiR60xrNivm",
        "colab_type": "code",
        "colab": {}
      },
      "source": [
        "plt.figure(figsize=(10,10))\n",
        "cmap = cm.get_cmap('jet', 10)\n",
        "plt.scatter(x=tsne[:,0],y=tsne[:,1],c=y_train.reshape(len(x_train)),s=35,cmap=cmap)\n",
        "plt.colorbar()\n",
        "plt.show()"
      ],
      "execution_count": 0,
      "outputs": []
    },
    {
      "cell_type": "code",
      "metadata": {
        "id": "iq7-Z0qJmKGq",
        "colab_type": "code",
        "colab": {}
      },
      "source": [
        ""
      ],
      "execution_count": 0,
      "outputs": []
    },
    {
      "cell_type": "markdown",
      "metadata": {
        "id": "kPJCx98zN9U5",
        "colab_type": "text"
      },
      "source": [
        "Display the obtained results"
      ]
    },
    {
      "cell_type": "code",
      "metadata": {
        "id": "ZnSV6q9AHn4X",
        "colab_type": "code",
        "colab": {}
      },
      "source": [
        "names = ['avg2ex_ex1', 'avg2ex_ex2', 'agv3ex_ex1', 'agv3ex_ex2', 'agv3ex_ex3',\n",
        "         'pyr2ex_ex1', 'pyr2ex_ex2', 'pyr3ex_ex1', 'pyr3ex_ex2', 'pyr3ex_ex3',]\n",
        "\n",
        "names_2 = ['avg2ex_ex1', 'avg2ex_ex2','pyr2ex_ex1', 'pyr2ex_ex2', 'norm_train']\n",
        "\n",
        "names_3 = ['agv3ex_ex1', 'agv3ex_ex2', 'agv3ex_ex3', 'pyr3ex_ex1', 'pyr3ex_ex2', 'pyr3ex_ex3', 'norm_train']\n",
        "\n",
        "names_e = ['avg2ex_mean', 'avg3ex_mean', 'pyr2ex_mean', 'pyr3ex_mean', 'resnet18']\n",
        "\n",
        "names_ew = ['avg2ex_wei', 'avg3ex_wei', 'pyr2ex_wei', 'pyr3ex_wei', 'resnet18']\n",
        "\n",
        "\n",
        "results = dict.fromkeys(names, 0)\n",
        "\n",
        "\n",
        "\n",
        "#data\n",
        "avg2ex_ex1 = 85.59\n",
        "avg2ex_ex2 = 85.24\n",
        "agv3ex_ex1 = 54.56\n",
        "agv3ex_ex2 = 84.83\n",
        "agv3ex_ex3 = 84.63\n",
        "\n",
        "pyr2ex_ex1 = 86.01\n",
        "pyr2ex_ex2 = 84.95\n",
        "pyr3ex_ex1 = 50.41\n",
        "pyr3ex_ex2 = 84.80\n",
        "pyr3ex_ex3 = 84.63\n",
        "\n",
        "avg2ex_e = 85.68\n",
        "avg3ex_e = 84.84\n",
        "pyr2ex_e = 86.37\n",
        "pyr3ex_e = 84.82\n",
        "\n",
        "avg2ex_ew = 85.95\n",
        "avg3ex_ew = 84.93\n",
        "pyr2ex_ew = 86.53\n",
        "pyr3ex_ew = 85.02\n",
        "\n",
        "\n",
        "norm_train = 85.73\n",
        "\n",
        "\n",
        "data = ([avg2ex_ex1, avg2ex_ex2, agv3ex_ex1, agv3ex_ex2, agv3ex_ex3,\n",
        "         pyr2ex_ex1, pyr2ex_ex2, pyr3ex_ex1, pyr3ex_ex2, pyr3ex_ex3])\n",
        "\n",
        "data_2 = ([avg2ex_ex1, avg2ex_ex2, pyr2ex_ex1, pyr2ex_ex2, norm_train])\n",
        "\n",
        "data_3 = ([agv3ex_ex1, agv3ex_ex2, agv3ex_ex3, pyr3ex_ex1, pyr3ex_ex2, pyr3ex_ex3, norm_train])\n",
        "\n",
        "data_e = ([avg2ex_e, avg3ex_e, pyr2ex_e, pyr3ex_e, norm_train])\n",
        "\n",
        "data_ew = ([avg2ex_ew, avg3ex_ew, pyr2ex_ew, pyr3ex_ew, norm_train])\n",
        "\n",
        "\n",
        "ymin = np.min(data)\n",
        "ymax = np.max(data)"
      ],
      "execution_count": 0,
      "outputs": []
    },
    {
      "cell_type": "code",
      "metadata": {
        "id": "tD3SzOSpRLyF",
        "colab_type": "code",
        "colab": {}
      },
      "source": [
        "for i in range(0,len(names)):\n",
        "\n",
        "    x = names[i]\n",
        "    results[x] = data[i]\n"
      ],
      "execution_count": 0,
      "outputs": []
    },
    {
      "cell_type": "code",
      "metadata": {
        "id": "Myp3rUoFRlQa",
        "colab_type": "code",
        "outputId": "c9715ba0-7871-410f-9cf6-43e1fe527735",
        "colab": {
          "base_uri": "https://localhost:8080/",
          "height": 190
        }
      },
      "source": [
        "results"
      ],
      "execution_count": 98,
      "outputs": [
        {
          "output_type": "execute_result",
          "data": {
            "text/plain": [
              "{'agv3ex_ex1': 54.56,\n",
              " 'agv3ex_ex2': 84.83,\n",
              " 'agv3ex_ex3': 84.63,\n",
              " 'avg2ex_ex1': 85.59,\n",
              " 'avg2ex_ex2': 85.24,\n",
              " 'pyr2ex_ex1': 86.01,\n",
              " 'pyr2ex_ex2': 84.95,\n",
              " 'pyr3ex_ex1': 50.41,\n",
              " 'pyr3ex_ex2': 84.8,\n",
              " 'pyr3ex_ex3': 84.63}"
            ]
          },
          "metadata": {
            "tags": []
          },
          "execution_count": 98
        }
      ]
    },
    {
      "cell_type": "code",
      "metadata": {
        "id": "lA1u4I82JXhX",
        "colab_type": "code",
        "outputId": "dc5e88ea-c4d7-424f-c193-695cb2a1748a",
        "colab": {
          "base_uri": "https://localhost:8080/",
          "height": 338
        }
      },
      "source": [
        "plt.figure(figsize=(12,5))\n",
        "plt.ylim([ymin-3, ymax+3])\n",
        "plt.bar(results.keys(), results.values(), width=.5)"
      ],
      "execution_count": 100,
      "outputs": [
        {
          "output_type": "execute_result",
          "data": {
            "text/plain": [
              "<BarContainer object of 10 artists>"
            ]
          },
          "metadata": {
            "tags": []
          },
          "execution_count": 100
        },
        {
          "output_type": "display_data",
          "data": {
            "image/png": "[encoded data removed]",
            "text/plain": [
              "<Figure size 864x360 with 1 Axes>"
            ]
          },
          "metadata": {
            "tags": [],
            "needs_background": "light"
          }
        }
      ]
    },
    {
      "cell_type": "code",
      "metadata": {
        "id": "G3M2KBY5TEfE",
        "colab_type": "code",
        "colab": {}
      },
      "source": [
        "norm_results = results\n",
        "\n",
        "ncolors = [None]*(len(data))\n",
        "\n",
        "for i in range(0,len(names)):\n",
        "\n",
        "    x = names[i]\n",
        "    norm_results[x] = data[i] - norm_train\n",
        "\n",
        "    if norm_results[x] < 0:\n",
        "        ncolors[i] = 'red'\n",
        "    else:\n",
        "        ncolors[i] = 'green'\n",
        "\n",
        "\n",
        "yymin = -37\n",
        "yymax = 3"
      ],
      "execution_count": 0,
      "outputs": []
    },
    {
      "cell_type": "code",
      "metadata": {
        "id": "uBqRsIU1TFgl",
        "colab_type": "code",
        "outputId": "39b66232-6ed2-446d-c030-bde4678eb579",
        "colab": {
          "base_uri": "https://localhost:8080/",
          "height": 34
        }
      },
      "source": [
        "norm_results\n",
        "norm_results.pop('norm_train')\n"
      ],
      "execution_count": 53,
      "outputs": [
        {
          "output_type": "execute_result",
          "data": {
            "text/plain": [
              "-0.7800000000000011"
            ]
          },
          "metadata": {
            "tags": []
          },
          "execution_count": 53
        }
      ]
    },
    {
      "cell_type": "code",
      "metadata": {
        "id": "V4NgWc_fThFh",
        "colab_type": "code",
        "outputId": "cc5ab2f7-b751-4726-8284-eb37013f11ee",
        "colab": {
          "base_uri": "https://localhost:8080/",
          "height": 338
        }
      },
      "source": [
        "plt.figure(figsize=(12,5))\n",
        "plt.ylim([yymin, yymax])\n",
        "plt.bar(norm_results.keys(), norm_results.values(), width=.5, color=ncolors)"
      ],
      "execution_count": 54,
      "outputs": [
        {
          "output_type": "execute_result",
          "data": {
            "text/plain": [
              "<BarContainer object of 10 artists>"
            ]
          },
          "metadata": {
            "tags": []
          },
          "execution_count": 54
        },
        {
          "output_type": "display_data",
          "data": {
            "image/png": "[encoded data removed]",
            "text/plain": [
              "<Figure size 864x360 with 1 Axes>"
            ]
          },
          "metadata": {
            "tags": [],
            "needs_background": "light"
          }
        }
      ]
    },
    {
      "cell_type": "code",
      "metadata": {
        "id": "g1k3knY2VA9T",
        "colab_type": "code",
        "outputId": "f4633c90-2ece-48dd-deab-0eb36afa6163",
        "colab": {
          "base_uri": "https://localhost:8080/",
          "height": 34
        }
      },
      "source": [
        "del ncolors[7]\n",
        "del ncolors[2]\n",
        "ncolors"
      ],
      "execution_count": 55,
      "outputs": [
        {
          "output_type": "execute_result",
          "data": {
            "text/plain": [
              "['red', 'red', 'red', 'red', 'green', 'red', 'red', 'red']"
            ]
          },
          "metadata": {
            "tags": []
          },
          "execution_count": 55
        }
      ]
    },
    {
      "cell_type": "code",
      "metadata": {
        "id": "qCKbdlq9byem",
        "colab_type": "code",
        "outputId": "e63ac59c-6cef-4c85-ec41-e6da1cac11dc",
        "colab": {
          "base_uri": "https://localhost:8080/",
          "height": 156
        }
      },
      "source": [
        "norm_results.pop('agv3ex_ex1')\n",
        "norm_results.pop('pyr3ex_ex1')\n",
        "norm_results"
      ],
      "execution_count": 56,
      "outputs": [
        {
          "output_type": "execute_result",
          "data": {
            "text/plain": [
              "{'agv3ex_ex2': -0.9000000000000057,\n",
              " 'agv3ex_ex3': -1.1000000000000085,\n",
              " 'avg2ex_ex1': -0.14000000000000057,\n",
              " 'avg2ex_ex2': -0.4900000000000091,\n",
              " 'pyr2ex_ex1': 0.28000000000000114,\n",
              " 'pyr2ex_ex2': -0.7800000000000011,\n",
              " 'pyr3ex_ex2': -0.9300000000000068,\n",
              " 'pyr3ex_ex3': -1.1000000000000085}"
            ]
          },
          "metadata": {
            "tags": []
          },
          "execution_count": 56
        }
      ]
    },
    {
      "cell_type": "code",
      "metadata": {
        "id": "_QDYV8yxaRoU",
        "colab_type": "code",
        "outputId": "9063d624-bffb-4611-eda3-55f6b25b79f5",
        "colab": {
          "base_uri": "https://localhost:8080/",
          "height": 342
        }
      },
      "source": [
        "plt.figure(figsize=(12,5))\n",
        "plt.ylim([-2, 2])\n",
        "plt.bar(norm_results.keys(), norm_results.values(), width=.5, color=ncolors)"
      ],
      "execution_count": 57,
      "outputs": [
        {
          "output_type": "execute_result",
          "data": {
            "text/plain": [
              "<BarContainer object of 8 artists>"
            ]
          },
          "metadata": {
            "tags": []
          },
          "execution_count": 57
        },
        {
          "output_type": "display_data",
          "data": {
            "image/png": "[encoded data removed]",
            "text/plain": [
              "<Figure size 864x360 with 1 Axes>"
            ]
          },
          "metadata": {
            "tags": [],
            "needs_background": "light"
          }
        }
      ]
    },
    {
      "cell_type": "code",
      "metadata": {
        "id": "TZh-jaNxcm9k",
        "colab_type": "code",
        "colab": {}
      },
      "source": [
        ""
      ],
      "execution_count": 0,
      "outputs": []
    }
  ]
}